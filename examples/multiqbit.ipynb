{
 "cells": [
  {
   "cell_type": "code",
   "execution_count": 1,
   "id": "0f6731e4",
   "metadata": {},
   "outputs": [],
   "source": [
    "from qiskit import QuantumCircuit, transpile\n",
    "from qiskit.circuit.library import UnitaryGate\n",
    "import numpy as np"
   ]
  },
  {
   "cell_type": "code",
   "execution_count": 3,
   "id": "16286c8c",
   "metadata": {},
   "outputs": [
    {
     "name": "stdout",
     "output_type": "stream",
     "text": [
      "                                                                  »\n",
      "q_0: ──────────────────────────────────────■──────────────────────»\n",
      "                                           │                      »\n",
      "q_1: ─────────────────■────────────────────┼───────────────────■──»\n",
      "     ┌─────────────┐┌─┴─┐┌──────────────┐┌─┴─┐┌─────────────┐┌─┴─┐»\n",
      "q_2: ┤ U3(π/2,0,π) ├┤ X ├┤ U3(0,0,-π/4) ├┤ X ├┤ U3(0,0,π/4) ├┤ X ├»\n",
      "     └─────────────┘└───┘└──────────────┘└───┘└─────────────┘└───┘»\n",
      "«                                         ┌─────────────┐      \n",
      "«q_0: ──────────────────■─────────■───────┤ U3(0,0,π/4) ├───■──\n",
      "«     ┌─────────────┐   │       ┌─┴─┐     ├─────────────┴┐┌─┴─┐\n",
      "«q_1: ┤ U3(0,0,π/4) ├───┼───────┤ X ├─────┤ U3(0,0,-π/4) ├┤ X ├\n",
      "«     ├─────────────┴┐┌─┴─┐┌────┴───┴────┐├─────────────┬┘└───┘\n",
      "«q_2: ┤ U3(0,0,-π/4) ├┤ X ├┤ U3(0,0,π/4) ├┤ U3(π/2,0,π) ├──────\n",
      "«     └──────────────┘└───┘└─────────────┘└─────────────┘      \n"
     ]
    }
   ],
   "source": [
    "qc = QuantumCircuit(3)\n",
    "qc.ccx(0, 1, 2)\n",
    "decomposed = transpile(qc, basis_gates=['u3', 'cx'], optimization_level=0)\n",
    "\n",
    "print(decomposed)"
   ]
  },
  {
   "cell_type": "code",
   "execution_count": null,
   "id": "78e1b6cc",
   "metadata": {},
   "outputs": [
    {
     "name": "stdout",
     "output_type": "stream",
     "text": [
      "Instruction: u3\n",
      "Qubits: [<Qubit register=(3, \"q\"), index=2>]\n",
      "Parameters: [1.5707963267948966, 0.0, 3.141592653589793]\n",
      "------------------------------\n",
      "Instruction: cx\n",
      "Qubits: [<Qubit register=(3, \"q\"), index=1>, <Qubit register=(3, \"q\"), index=2>]\n",
      "Parameters: []\n",
      "------------------------------\n",
      "Instruction: u3\n",
      "Qubits: [<Qubit register=(3, \"q\"), index=2>]\n",
      "Parameters: [0.0, 0.0, -0.7853981633974483]\n",
      "------------------------------\n",
      "Instruction: cx\n",
      "Qubits: [<Qubit register=(3, \"q\"), index=0>, <Qubit register=(3, \"q\"), index=2>]\n",
      "Parameters: []\n",
      "------------------------------\n",
      "Instruction: u3\n",
      "Qubits: [<Qubit register=(3, \"q\"), index=2>]\n",
      "Parameters: [0.0, 0.0, 0.7853981633974483]\n",
      "------------------------------\n",
      "Instruction: cx\n",
      "Qubits: [<Qubit register=(3, \"q\"), index=1>, <Qubit register=(3, \"q\"), index=2>]\n",
      "Parameters: []\n",
      "------------------------------\n",
      "Instruction: u3\n",
      "Qubits: [<Qubit register=(3, \"q\"), index=1>]\n",
      "Parameters: [0.0, 0.0, 0.7853981633974483]\n",
      "------------------------------\n",
      "Instruction: u3\n",
      "Qubits: [<Qubit register=(3, \"q\"), index=2>]\n",
      "Parameters: [0.0, 0.0, -0.7853981633974483]\n",
      "------------------------------\n",
      "Instruction: cx\n",
      "Qubits: [<Qubit register=(3, \"q\"), index=0>, <Qubit register=(3, \"q\"), index=2>]\n",
      "Parameters: []\n",
      "------------------------------\n",
      "Instruction: cx\n",
      "Qubits: [<Qubit register=(3, \"q\"), index=0>, <Qubit register=(3, \"q\"), index=1>]\n",
      "Parameters: []\n",
      "------------------------------\n",
      "Instruction: u3\n",
      "Qubits: [<Qubit register=(3, \"q\"), index=0>]\n",
      "Parameters: [0.0, 0.0, 0.7853981633974483]\n",
      "------------------------------\n",
      "Instruction: u3\n",
      "Qubits: [<Qubit register=(3, \"q\"), index=1>]\n",
      "Parameters: [0.0, 0.0, -0.7853981633974483]\n",
      "------------------------------\n",
      "Instruction: cx\n",
      "Qubits: [<Qubit register=(3, \"q\"), index=0>, <Qubit register=(3, \"q\"), index=1>]\n",
      "Parameters: []\n",
      "------------------------------\n",
      "Instruction: u3\n",
      "Qubits: [<Qubit register=(3, \"q\"), index=2>]\n",
      "Parameters: [0.0, 0.0, 0.7853981633974483]\n",
      "------------------------------\n",
      "Instruction: u3\n",
      "Qubits: [<Qubit register=(3, \"q\"), index=2>]\n",
      "Parameters: [1.5707963267948966, 0.0, 3.141592653589793]\n",
      "------------------------------\n"
     ]
    },
    {
     "name": "stderr",
     "output_type": "stream",
     "text": [
      "/tmp/ipykernel_2197610/1900085387.py:1: DeprecationWarning: Treating CircuitInstruction as an iterable is deprecated legacy behavior since Qiskit 1.2, and will be removed in Qiskit 3.0. Instead, use the `operation`, `qubits` and `clbits` named attributes.\n",
      "  for instr, qargs, cargs in decomposed.data:\n"
     ]
    }
   ],
   "source": [
    "for instr, qargs, cargs in decomposed.data:\n",
    "    print(f\"Instruction: {instr.name}\")\n",
    "    print(f\"Qubits: {[q for q in qargs]}\")\n",
    "    print(f\"Parameters: {instr.params}\")\n",
    "    print(\"-\" * 30)\n"
   ]
  },
  {
   "cell_type": "code",
   "execution_count": null,
   "id": "47969e38",
   "metadata": {},
   "outputs": [],
   "source": []
  }
 ],
 "metadata": {
  "kernelspec": {
   "display_name": "topological-quantum-compiling",
   "language": "python",
   "name": "python3"
  },
  "language_info": {
   "codemirror_mode": {
    "name": "ipython",
    "version": 3
   },
   "file_extension": ".py",
   "mimetype": "text/x-python",
   "name": "python",
   "nbconvert_exporter": "python",
   "pygments_lexer": "ipython3",
   "version": "3.12.3"
  }
 },
 "nbformat": 4,
 "nbformat_minor": 5
}
