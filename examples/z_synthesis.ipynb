{
 "cells": [
  {
   "cell_type": "code",
   "execution_count": 1,
   "id": "ad94258b",
   "metadata": {},
   "outputs": [
    {
     "name": "stderr",
     "output_type": "stream",
     "text": [
      "/home/jkr/projects/topological-quantum-compiling/src/exact_synthesis/numberTheory.py:366: SyntaxWarning: invalid escape sequence '\\i'\n",
      "  \"\"\"\n"
     ]
    }
   ],
   "source": [
    "from exact_synthesis.prec import synthesize_z_rotation\n",
    "from exact_synthesis.prec import evaluate_gate_sequence, rz_mp\n",
    "from exact_synthesis.prec import d\n",
    "from exact_synthesis.synthesis import transpile_ft_sigma\n",
    "import mpmath\n",
    "from mpmath import mp"
   ]
  },
  {
   "cell_type": "code",
   "execution_count": 2,
   "id": "a5fbf23c",
   "metadata": {},
   "outputs": [
    {
     "name": "stdout",
     "output_type": "stream",
     "text": [
      "Equations is not going to be solvable\n",
      "Equations is not going to be solvable\n",
      "Equations is not going to be solvable\n",
      "Equations is not going to be solvable\n",
      "Equations is not going to be solvable\n",
      "Equations is not going to be solvable\n",
      "Equations is not going to be solvable\n",
      "FOUND SOLUTION\n",
      "1\n",
      "56\n",
      "[WIGate(power=1), TGate(power=6), FGate(), TGate(power=5), FGate(), TGate(power=9), FGate(), TGate(power=9), FGate(), TGate(power=9), FGate(), TGate(power=9), FGate(), TGate(power=1), FGate(), TGate(power=6), FGate(), TGate(power=4), FGate(), TGate(power=1), FGate(), TGate(power=1), FGate(), TGate(power=2), FGate(), TGate(power=4), FGate(), TGate(power=1), FGate(), TGate(power=8), FGate(), TGate(power=9), FGate(), TGate(power=1), FGate(), TGate(power=6), FGate(), TGate(power=2), FGate(), TGate(power=1), FGate(), TGate(power=6), FGate(), TGate(power=4), FGate(), TGate(power=8), FGate(), TGate(power=2), FGate(), TGate(power=4), FGate(), TGate(power=1), FGate(), TGate(power=6), FGate(), TGate(power=3)]\n"
     ]
    }
   ],
   "source": [
    "input = lambda k : 2 * mpmath.pi * k / (10**3)\n",
    "error = lambda k : 10**(-k)\n",
    "\n",
    "C,U = synthesize_z_rotation(input(1), error(4))\n",
    "print(len(C))\n",
    "print(C)"
   ]
  },
  {
   "cell_type": "code",
   "execution_count": 3,
   "id": "5d9882c9",
   "metadata": {},
   "outputs": [
    {
     "data": {
      "text/plain": [
       "mpf('0.0098919997541270805')"
      ]
     },
     "execution_count": 3,
     "metadata": {},
     "output_type": "execute_result"
    }
   ],
   "source": [
    "dist = d(input(1),U.u, U.v)\n",
    "\n",
    "dist < error(4)\n",
    "dist - error(4)"
   ]
  },
  {
   "cell_type": "code",
   "execution_count": 4,
   "id": "5f51c379",
   "metadata": {},
   "outputs": [
    {
     "name": "stdout",
     "output_type": "stream",
     "text": [
      "Equations is not going to be solvable\n",
      "FOUND SOLUTION\n",
      "1\n",
      "58\n"
     ]
    },
    {
     "data": {
      "text/plain": [
       "mpf('0.0094060448186145569')"
      ]
     },
     "execution_count": 4,
     "metadata": {},
     "output_type": "execute_result"
    }
   ],
   "source": [
    "mpmath.dps = 200\n",
    "C,U = synthesize_z_rotation(input(10), 1e-5)\n",
    "print(len(C))\n",
    "dist=d(input(4),U.u, U.v)\n",
    "dist"
   ]
  },
  {
   "cell_type": "code",
   "execution_count": 5,
   "id": "1660dba6",
   "metadata": {},
   "outputs": [
    {
     "name": "stdout",
     "output_type": "stream",
     "text": [
      "[WIGate(power=9), TGate(power=6), FGate(), TGate(power=8), FGate(), TGate(power=8), FGate(), TGate(power=1), FGate(), TGate(power=1), FGate(), TGate(power=6), FGate(), TGate(power=1), FGate(), TGate(power=8), FGate(), TGate(power=9), FGate(), TGate(power=2), FGate(), TGate(power=1), FGate(), TGate(power=8), FGate(), TGate(power=2), FGate(), TGate(power=9), FGate(), TGate(power=5), FGate(), TGate(power=8), FGate(), TGate(power=5), FGate(), TGate(power=1), FGate(), TGate(power=1), FGate(), TGate(power=6), FGate(), TGate(power=1), FGate(), TGate(power=9), FGate(), TGate(power=1), FGate(), TGate(power=2), FGate(), TGate(power=1), FGate(), TGate(power=6), FGate(), TGate(power=8), FGate(), TGate(power=6), FGate(), TGate(power=7)]\n"
     ]
    }
   ],
   "source": [
    "print(C)"
   ]
  },
  {
   "cell_type": "code",
   "execution_count": 7,
   "id": "b522ae17",
   "metadata": {},
   "outputs": [
    {
     "data": {
      "text/plain": [
       "660"
      ]
     },
     "execution_count": 7,
     "metadata": {},
     "output_type": "execute_result"
    }
   ],
   "source": [
    "CC =transpile_ft_sigma(C)\n",
    "len(CC)"
   ]
  },
  {
   "cell_type": "code",
   "execution_count": 3,
   "id": "9e3086db",
   "metadata": {},
   "outputs": [
    {
     "name": "stdout",
     "output_type": "stream",
     "text": [
      "<class 'mpmath.matrices.matrices.matrix'>\n"
     ]
    }
   ],
   "source": [
    "from mpmath import matrix\n",
    "\n",
    "A = matrix([[0,0],[0,0]])\n",
    "\n",
    "print(type(A))"
   ]
  },
  {
   "cell_type": "code",
   "execution_count": null,
   "id": "50d245ed",
   "metadata": {},
   "outputs": [
    {
     "name": "stdout",
     "output_type": "stream",
     "text": [
      "{'global_phase': np.float64(0.0), 'alpha': 0.0, 'beta': -3.141592653589793, 'gamma': 1.5707963267948966, 'delta': 3.141592653589793, 'form': 'Rz-Rx-Rz'}\n"
     ]
    }
   ],
   "source": [
    "import numpy as np\n",
    "from mpmath import mpc, mp, atan2, sqrt, cos, sin, pi\n",
    "\n",
    "mp.dps = 30  # arbitrary precision\n",
    "\n",
    "def mag(z):\n",
    "    return abs(z)\n",
    "\n",
    "def phase(z):\n",
    "    return atan2(z.imag, z.real)\n",
    "\n",
    "def cis(x):\n",
    "    return mpc(cos(x), sin(x))\n",
    "\n",
    "def adj(z):\n",
    "    return mpc(z.real, -z.imag)\n",
    "\n",
    "def euler_angles(U):\n",
    "    \"\"\"\n",
    "    Decompose U ∈ U(2) as e^{iα} · Rz(β) · Rx(γ) · Rz(δ)\n",
    "    \"\"\"\n",
    "    (a, b), (c, d) = U.tolist()\n",
    "    a = mpc(a)\n",
    "    b = mpc(b)\n",
    "    c = mpc(c)\n",
    "    d = mpc(d)\n",
    "\n",
    "    i = mpc(0, 1)\n",
    "    alpha = phase(a*d - b*c) / 2\n",
    "    gamma = 2 * atan2(mag(b), mag(a))\n",
    "    delta = phase(b * d * i * adj(a*d - b*c))\n",
    "    beta = 2 * phase(d * cis(-alpha - delta / 2) + c * cis(-alpha + delta / 2) * i)\n",
    "\n",
    "    return float(alpha), float(beta), float(gamma), float(delta)\n",
    "\n",
    "\n",
    "def global_phase(U):\n",
    "    \"\"\"Compute the global phase angle from the determinant\"\"\"\n",
    "    det = np.linalg.det(U)\n",
    "    return np.angle(det) / 2\n",
    "\n",
    "\n",
    "def _decompose_U(U, tol=1e-12):\n",
    "    \"\"\"\n",
    "    Given a 2x2 unitary matrix U, return Euler angles for the decomposition:\n",
    "        U = e^{iα} · Rz(β) · Rx(γ) · Rz(δ)\n",
    "\n",
    "    Returns a dictionary with keys:\n",
    "      - delta (global phase α)\n",
    "      - alpha, beta, gamma, delta (Euler angles)\n",
    "      - form: description of decomposition\n",
    "    \"\"\"\n",
    "    assert U.shape == (2, 2), \"Matrix must be 2x2\"\n",
    "    assert np.allclose(U.conj().T @ U, np.eye(2), atol=1e-12), \"Matrix must be unitary\"\n",
    "\n",
    "    delta = global_phase(U)\n",
    "    U_prime = U * np.exp(-1j * delta)\n",
    "\n",
    "    if np.abs(U_prime[0, 0]) > tol:\n",
    "        alpha, beta, gamma, delta_ = euler_angles(U_prime)\n",
    "        return {\n",
    "            \"global_phase\": delta,\n",
    "            \"alpha\": alpha,\n",
    "            \"beta\": beta,\n",
    "            \"gamma\": gamma,\n",
    "            \"delta\": delta_,\n",
    "            \"form\": \"Rz-Rx-Rz\",\n",
    "        }\n",
    "    else:\n",
    "        X = np.array([[0, 1], [1, 0]])\n",
    "        Rz_phi = U_prime @ X\n",
    "        diag = np.diag(Rz_phi)\n",
    "        phi = np.angle(0.5 * diag[0])\n",
    "        return {\n",
    "            \"global_phase\": delta,\n",
    "            \"phi\": phi,\n",
    "            \"form\": \"Rz-X\",\n",
    "        }\n",
    "\n",
    "from scipy.linalg import expm\n",
    "\n",
    "theta = np.pi / 4\n",
    "U = expm(1j * theta * np.array([[0, 1], [1, 0]]))\n",
    "result = _decompose_U(U)\n",
    "print(result)\n"
   ]
  },
  {
   "cell_type": "code",
   "execution_count": null,
   "id": "212d261a",
   "metadata": {},
   "outputs": [],
   "source": []
  }
 ],
 "metadata": {
  "kernelspec": {
   "display_name": "topological-quantum-compiling (3.12.3)",
   "language": "python",
   "name": "python3"
  },
  "language_info": {
   "codemirror_mode": {
    "name": "ipython",
    "version": 3
   },
   "file_extension": ".py",
   "mimetype": "text/x-python",
   "name": "python",
   "nbconvert_exporter": "python",
   "pygments_lexer": "ipython3",
   "version": "3.12.3"
  }
 },
 "nbformat": 4,
 "nbformat_minor": 5
}
