{
 "cells": [
  {
   "cell_type": "code",
   "execution_count": 21,
   "id": "ad94258b",
   "metadata": {},
   "outputs": [],
   "source": [
    "from exact_synthesis.prec import synthesize_z_rotation\n",
    "from exact_synthesis.prec import evaluate_gate_sequence, rz_mp\n",
    "from exact_synthesis.prec import d\n",
    "import mpmath\n",
    "from mpmath import mp"
   ]
  },
  {
   "cell_type": "code",
   "execution_count": null,
   "id": "a5fbf23c",
   "metadata": {},
   "outputs": [
    {
     "ename": "AttributeError",
     "evalue": "module 'mpmath' has no attribute 'dps'",
     "output_type": "error",
     "traceback": [
      "\u001b[31m---------------------------------------------------------------------------\u001b[39m",
      "\u001b[31mAttributeError\u001b[39m                            Traceback (most recent call last)",
      "\u001b[36mCell\u001b[39m\u001b[36m \u001b[39m\u001b[32mIn[22]\u001b[39m\u001b[32m, line 3\u001b[39m\n\u001b[32m      1\u001b[39m \u001b[38;5;28minput\u001b[39m = \u001b[38;5;28;01mlambda\u001b[39;00m k : \u001b[32m2\u001b[39m * mpmath.pi * k / (\u001b[32m10\u001b[39m**\u001b[32m3\u001b[39m)\n\u001b[32m      2\u001b[39m error = \u001b[38;5;28;01mlambda\u001b[39;00m k : \u001b[32m10\u001b[39m**(-k)\n\u001b[32m----> \u001b[39m\u001b[32m3\u001b[39m \u001b[43mmpmath\u001b[49m\u001b[43m.\u001b[49m\u001b[43mdps\u001b[49m\n\u001b[32m      4\u001b[39m C,U = synthesize_z_rotation(\u001b[38;5;28minput\u001b[39m(\u001b[32m1\u001b[39m), error(\u001b[32m4\u001b[39m))\n\u001b[32m      5\u001b[39m \u001b[38;5;28mprint\u001b[39m(\u001b[38;5;28mlen\u001b[39m(C))\n",
      "\u001b[31mAttributeError\u001b[39m: module 'mpmath' has no attribute 'dps'"
     ]
    }
   ],
   "source": [
    "input = lambda k : 2 * mpmath.pi * k / (10**3)\n",
    "error = lambda k : 10**(-k)\n",
    "\n",
    "C,U = synthesize_z_rotation(input(1), error(4))\n",
    "print(len(C))\n",
    "print(C)"
   ]
  },
  {
   "cell_type": "code",
   "execution_count": 7,
   "id": "5d9882c9",
   "metadata": {},
   "outputs": [
    {
     "data": {
      "text/plain": [
       "mpf('0.0098954263481354429')"
      ]
     },
     "execution_count": 7,
     "metadata": {},
     "output_type": "execute_result"
    }
   ],
   "source": [
    "dist = d(input(1),U.u, U.v)\n",
    "\n",
    "dist < error(4)\n",
    "dist - error(4)"
   ]
  },
  {
   "cell_type": "code",
   "execution_count": 25,
   "id": "5f51c379",
   "metadata": {},
   "outputs": [
    {
     "ename": "AssertionError",
     "evalue": "Failed: abs(x - approx)=40520.2212298773 (PREC=4.84654866861515e-8), abs(b)=5595911.0 (PHI^n=33385282.0)",
     "output_type": "error",
     "traceback": [
      "\u001b[31m---------------------------------------------------------------------------\u001b[39m",
      "\u001b[31mAssertionError\u001b[39m                            Traceback (most recent call last)",
      "\u001b[36mCell\u001b[39m\u001b[36m \u001b[39m\u001b[32mIn[25]\u001b[39m\u001b[32m, line 2\u001b[39m\n\u001b[32m      1\u001b[39m mpmath.dps = \u001b[32m200\u001b[39m\n\u001b[32m----> \u001b[39m\u001b[32m2\u001b[39m C,U = \u001b[43msynthesize_z_rotation\u001b[49m\u001b[43m(\u001b[49m\u001b[38;5;28;43minput\u001b[39;49m\u001b[43m(\u001b[49m\u001b[32;43m10\u001b[39;49m\u001b[43m)\u001b[49m\u001b[43m,\u001b[49m\u001b[43m \u001b[49m\u001b[32;43m1e-7\u001b[39;49m\u001b[43m)\u001b[49m\n\u001b[32m      3\u001b[39m \u001b[38;5;28mprint\u001b[39m(\u001b[38;5;28mlen\u001b[39m(C))\n\u001b[32m      4\u001b[39m dist=d(\u001b[38;5;28minput\u001b[39m(\u001b[32m4\u001b[39m),U.u, U.v)\n",
      "\u001b[36mFile \u001b[39m\u001b[32m~/projects/topological-quantum-compiling/src/exact_synthesis/prec.py:120\u001b[39m, in \u001b[36msynthesize_z_rotation\u001b[39m\u001b[34m(phi, eps)\u001b[39m\n\u001b[32m    118\u001b[39m k = k_final\n\u001b[32m    119\u001b[39m \u001b[38;5;28;01mwhile\u001b[39;00m not_found:\n\u001b[32m--> \u001b[39m\u001b[32m120\u001b[39m   u0 = \u001b[43mRANDOM_SAMPLE\u001b[49m\u001b[43m(\u001b[49m\u001b[43mtheta\u001b[49m\u001b[43m,\u001b[49m\u001b[43m \u001b[49m\u001b[43meps\u001b[49m\u001b[43m,\u001b[49m\u001b[43m \u001b[49m\u001b[32;43m1\u001b[39;49m\u001b[43m)\u001b[49m\n\u001b[32m    122\u001b[39m   \u001b[38;5;66;03m# print(\"No solution found, u0:\", u0)\u001b[39;00m\n\u001b[32m    124\u001b[39m   xi = RealCyclotomic10.Phi() * ((RealCyclotomic10.Phi() ** (\u001b[32m2\u001b[39m * m)) - N_i(u0))\n",
      "\u001b[36mFile \u001b[39m\u001b[32m~/projects/topological-quantum-compiling/src/exact_synthesis/prec.py:76\u001b[39m, in \u001b[36mRANDOM_SAMPLE\u001b[39m\u001b[34m(theta, epsilon, r)\u001b[39m\n\u001b[32m     73\u001b[39m y = ymin + j * (ymax - ymin) / N\n\u001b[32m     75\u001b[39m y_prime = y / mpmath.sqrt(\u001b[32m2\u001b[39m - tau)\n\u001b[32m---> \u001b[39m\u001b[32m76\u001b[39m yy = \u001b[43mAPPROX_REAL\u001b[49m\u001b[43m(\u001b[49m\u001b[43my_prime\u001b[49m\u001b[43m,\u001b[49m\u001b[43m \u001b[49m\u001b[43mm\u001b[49m\u001b[43m)\u001b[49m\n\u001b[32m     78\u001b[39m y_approx = (yy.a + yy.b * tau) * mpmath.sqrt(\u001b[32m2\u001b[39m - tau)\n\u001b[32m     79\u001b[39m x = xc - (y_approx - ymin) * mpmath.tan(theta)\n",
      "\u001b[36mFile \u001b[39m\u001b[32m~/projects/topological-quantum-compiling/src/exact_synthesis/prec.py:40\u001b[39m, in \u001b[36mAPPROX_REAL\u001b[39m\u001b[34m(x, n)\u001b[39m\n\u001b[32m     38\u001b[39m abs_b = mpmath.fabs(b)\n\u001b[32m     39\u001b[39m phi_pow_n = phi**n\n\u001b[32m---> \u001b[39m\u001b[32m40\u001b[39m \u001b[38;5;28;01massert\u001b[39;00m (abs_diff <= PREC) \u001b[38;5;129;01mand\u001b[39;00m (abs_b <= phi_pow_n), \u001b[33mf\u001b[39m\u001b[33m\"\u001b[39m\u001b[33mFailed: abs(x - approx)=\u001b[39m\u001b[38;5;132;01m{\u001b[39;00mabs_diff\u001b[38;5;132;01m}\u001b[39;00m\u001b[33m (PREC=\u001b[39m\u001b[38;5;132;01m{\u001b[39;00mPREC\u001b[38;5;132;01m}\u001b[39;00m\u001b[33m), abs(b)=\u001b[39m\u001b[38;5;132;01m{\u001b[39;00mabs_b\u001b[38;5;132;01m}\u001b[39;00m\u001b[33m (PHI^n=\u001b[39m\u001b[38;5;132;01m{\u001b[39;00mphi_pow_n\u001b[38;5;132;01m}\u001b[39;00m\u001b[33m)\u001b[39m\u001b[33m\"\u001b[39m\n\u001b[32m     41\u001b[39m \u001b[38;5;28;01mreturn\u001b[39;00m RealCyclotomic10(\u001b[38;5;28mint\u001b[39m(a), \u001b[38;5;28mint\u001b[39m(b))\n",
      "\u001b[31mAssertionError\u001b[39m: Failed: abs(x - approx)=40520.2212298773 (PREC=4.84654866861515e-8), abs(b)=5595911.0 (PHI^n=33385282.0)"
     ]
    }
   ],
   "source": [
    "mpmath.dps = 200\n",
    "C,U = synthesize_z_rotation(input(10), 1e-7)\n",
    "print(len(C))\n",
    "dist=d(input(4),U.u, U.v)\n",
    "dist"
   ]
  },
  {
   "cell_type": "code",
   "execution_count": null,
   "id": "1660dba6",
   "metadata": {},
   "outputs": [],
   "source": []
  }
 ],
 "metadata": {
  "kernelspec": {
   "display_name": "topological-quantum-compiling",
   "language": "python",
   "name": "python3"
  },
  "language_info": {
   "codemirror_mode": {
    "name": "ipython",
    "version": 3
   },
   "file_extension": ".py",
   "mimetype": "text/x-python",
   "name": "python",
   "nbconvert_exporter": "python",
   "pygments_lexer": "ipython3",
   "version": "3.12.3"
  }
 },
 "nbformat": 4,
 "nbformat_minor": 5
}
