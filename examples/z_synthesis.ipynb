{
 "cells": [
  {
   "cell_type": "code",
   "execution_count": 1,
   "id": "ad94258b",
   "metadata": {},
   "outputs": [
    {
     "name": "stderr",
     "output_type": "stream",
     "text": [
      "/home/jkr/projects/topological-quantum-compiling/src/exact_synthesis/numberTheory.py:366: SyntaxWarning: invalid escape sequence '\\i'\n",
      "  \"\"\"\n"
     ]
    }
   ],
   "source": [
    "from exact_synthesis.prec import synthesize_z_rotation\n",
    "from exact_synthesis.prec import evaluate_gate_sequence, rz_mp\n",
    "from exact_synthesis.prec import d\n",
    "from exact_synthesis.synthesis import transpile_ft_sigma\n",
    "import mpmath\n",
    "from mpmath import mp"
   ]
  },
  {
   "cell_type": "code",
   "execution_count": 2,
   "id": "a5fbf23c",
   "metadata": {},
   "outputs": [
    {
     "name": "stdout",
     "output_type": "stream",
     "text": [
      "Equations is not going to be solvable\n",
      "Equations is not going to be solvable\n",
      "Equations is not going to be solvable\n",
      "Equations is not going to be solvable\n",
      "Equations is not going to be solvable\n",
      "Equations is not going to be solvable\n",
      "Equations is not going to be solvable\n",
      "FOUND SOLUTION\n",
      "1\n",
      "56\n",
      "[WIGate(power=1), TGate(power=6), FGate(), TGate(power=5), FGate(), TGate(power=9), FGate(), TGate(power=9), FGate(), TGate(power=9), FGate(), TGate(power=9), FGate(), TGate(power=1), FGate(), TGate(power=6), FGate(), TGate(power=4), FGate(), TGate(power=1), FGate(), TGate(power=1), FGate(), TGate(power=2), FGate(), TGate(power=4), FGate(), TGate(power=1), FGate(), TGate(power=8), FGate(), TGate(power=9), FGate(), TGate(power=1), FGate(), TGate(power=6), FGate(), TGate(power=2), FGate(), TGate(power=1), FGate(), TGate(power=6), FGate(), TGate(power=4), FGate(), TGate(power=8), FGate(), TGate(power=2), FGate(), TGate(power=4), FGate(), TGate(power=1), FGate(), TGate(power=6), FGate(), TGate(power=3)]\n"
     ]
    }
   ],
   "source": [
    "input = lambda k : 2 * mpmath.pi * k / (10**3)\n",
    "error = lambda k : 10**(-k)\n",
    "\n",
    "C,U = synthesize_z_rotation(input(1), error(4))\n",
    "print(len(C))\n",
    "print(C)"
   ]
  },
  {
   "cell_type": "code",
   "execution_count": 3,
   "id": "5d9882c9",
   "metadata": {},
   "outputs": [
    {
     "data": {
      "text/plain": [
       "mpf('0.0098919997541270805')"
      ]
     },
     "execution_count": 3,
     "metadata": {},
     "output_type": "execute_result"
    }
   ],
   "source": [
    "dist = d(input(1),U.u, U.v)\n",
    "\n",
    "dist < error(4)\n",
    "dist - error(4)"
   ]
  },
  {
   "cell_type": "code",
   "execution_count": 4,
   "id": "5f51c379",
   "metadata": {},
   "outputs": [
    {
     "name": "stdout",
     "output_type": "stream",
     "text": [
      "Equations is not going to be solvable\n",
      "FOUND SOLUTION\n",
      "1\n",
      "58\n"
     ]
    },
    {
     "data": {
      "text/plain": [
       "mpf('0.0094060448186145569')"
      ]
     },
     "execution_count": 4,
     "metadata": {},
     "output_type": "execute_result"
    }
   ],
   "source": [
    "mpmath.dps = 200\n",
    "C,U = synthesize_z_rotation(input(10), 1e-5)\n",
    "print(len(C))\n",
    "dist=d(input(4),U.u, U.v)\n",
    "dist"
   ]
  },
  {
   "cell_type": "code",
   "execution_count": 5,
   "id": "1660dba6",
   "metadata": {},
   "outputs": [
    {
     "name": "stdout",
     "output_type": "stream",
     "text": [
      "[WIGate(power=9), TGate(power=6), FGate(), TGate(power=8), FGate(), TGate(power=8), FGate(), TGate(power=1), FGate(), TGate(power=1), FGate(), TGate(power=6), FGate(), TGate(power=1), FGate(), TGate(power=8), FGate(), TGate(power=9), FGate(), TGate(power=2), FGate(), TGate(power=1), FGate(), TGate(power=8), FGate(), TGate(power=2), FGate(), TGate(power=9), FGate(), TGate(power=5), FGate(), TGate(power=8), FGate(), TGate(power=5), FGate(), TGate(power=1), FGate(), TGate(power=1), FGate(), TGate(power=6), FGate(), TGate(power=1), FGate(), TGate(power=9), FGate(), TGate(power=1), FGate(), TGate(power=2), FGate(), TGate(power=1), FGate(), TGate(power=6), FGate(), TGate(power=8), FGate(), TGate(power=6), FGate(), TGate(power=7)]\n"
     ]
    }
   ],
   "source": [
    "print(C)"
   ]
  },
  {
   "cell_type": "code",
   "execution_count": 7,
   "id": "b522ae17",
   "metadata": {},
   "outputs": [
    {
     "data": {
      "text/plain": [
       "660"
      ]
     },
     "execution_count": 7,
     "metadata": {},
     "output_type": "execute_result"
    }
   ],
   "source": [
    "CC =transpile_ft_sigma(C)\n",
    "len(CC)"
   ]
  },
  {
   "cell_type": "code",
   "execution_count": null,
   "id": "9e3086db",
   "metadata": {},
   "outputs": [],
   "source": [
    "from mpmath import matrix"
   ]
  }
 ],
 "metadata": {
  "kernelspec": {
   "display_name": "topological-quantum-compiling",
   "language": "python",
   "name": "python3"
  },
  "language_info": {
   "codemirror_mode": {
    "name": "ipython",
    "version": 3
   },
   "file_extension": ".py",
   "mimetype": "text/x-python",
   "name": "python",
   "nbconvert_exporter": "python",
   "pygments_lexer": "ipython3",
   "version": "3.12.3"
  }
 },
 "nbformat": 4,
 "nbformat_minor": 5
}
